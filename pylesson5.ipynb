{
 "cells": [
  {
   "cell_type": "code",
   "execution_count": 15,
   "id": "23c6fb79",
   "metadata": {},
   "outputs": [
    {
     "data": {
      "text/plain": [
       "6"
      ]
     },
     "execution_count": 15,
     "metadata": {},
     "output_type": "execute_result"
    }
   ],
   "source": [
    "def calculate(max):\n",
    "    sum=0\n",
    "    for n in range(1,max+1):\n",
    "        sum += n\n",
    "    return(sum) #return 相當於終止的概念 停止函數繼續運算\n",
    "calculate(3)"
   ]
  },
  {
   "cell_type": "code",
   "execution_count": 34,
   "id": "d4d1884d",
   "metadata": {},
   "outputs": [
    {
     "name": "stdout",
     "output_type": "stream",
     "text": [
      "(11, [5, 6, 7])\n"
     ]
    }
   ],
   "source": [
    "def increase(x,y):\n",
    "    x+=1\n",
    "    for i in range(len(y)):\n",
    "        y[i]+=1\n",
    "    return(x,y)\n",
    "a=10\n",
    "b=[4,5,6]\n",
    "\n",
    "print(increase(a,b))"
   ]
  },
  {
   "cell_type": "code",
   "execution_count": 23,
   "id": "d8ab02e7",
   "metadata": {},
   "outputs": [
    {
     "name": "stdout",
     "output_type": "stream",
     "text": [
      "None\n"
     ]
    }
   ],
   "source": [
    "def find(x,y):\n",
    "    if x>y:\n",
    "        return x\n",
    "    else:\n",
    "        return\n",
    "\n",
    "a=2\n",
    "b=3\n",
    "print(find(a,b))\n",
    "    "
   ]
  },
  {
   "cell_type": "code",
   "execution_count": 43,
   "id": "a839fdf3",
   "metadata": {},
   "outputs": [
    {
     "name": "stdout",
     "output_type": "stream",
     "text": [
      "1.000000,2.000000,3.000000,"
     ]
    }
   ],
   "source": [
    "f=[1,2,3]\n",
    "for i in f:\n",
    "    print('{:f}'.format(i),end=',')"
   ]
  },
  {
   "cell_type": "code",
   "execution_count": 44,
   "id": "ea098f8b",
   "metadata": {},
   "outputs": [
    {
     "ename": "NameError",
     "evalue": "name 'random' is not defined",
     "output_type": "error",
     "traceback": [
      "\u001b[1;31m---------------------------------------------------------------------------\u001b[0m",
      "\u001b[1;31mNameError\u001b[0m                                 Traceback (most recent call last)",
      "\u001b[1;32m<ipython-input-44-15192ba227c2>\u001b[0m in \u001b[0;36m<module>\u001b[1;34m\u001b[0m\n\u001b[1;32m----> 1\u001b[1;33m \u001b[0mrandom\u001b[0m\u001b[1;33m.\u001b[0m\u001b[0mrandit\u001b[0m\u001b[1;33m(\u001b[0m\u001b[1;36m1\u001b[0m\u001b[1;33m,\u001b[0m\u001b[1;36m10\u001b[0m\u001b[1;33m)\u001b[0m\u001b[1;33m\u001b[0m\u001b[1;33m\u001b[0m\u001b[0m\n\u001b[0m",
      "\u001b[1;31mNameError\u001b[0m: name 'random' is not defined"
     ]
    }
   ],
   "source": [
    "random.randit(1,10)"
   ]
  },
  {
   "cell_type": "code",
   "execution_count": 51,
   "id": "639449e2",
   "metadata": {},
   "outputs": [
    {
     "name": "stdout",
     "output_type": "stream",
     "text": [
      "<filter object at 0x000001C08F005C70>\n"
     ]
    }
   ],
   "source": [
    "s=[2,3,4,5,6]\n",
    "fail=filter(lambda s:True if s>3 else False,s)\n",
    "print(str(fail))"
   ]
  },
  {
   "cell_type": "code",
   "execution_count": 62,
   "id": "82bd0833",
   "metadata": {},
   "outputs": [
    {
     "name": "stdout",
     "output_type": "stream",
     "text": [
      "7\n"
     ]
    }
   ],
   "source": [
    "class circle:\n",
    "    def __init__(self, radius):\n",
    "        self._radius=radius\n",
    "    def get_radius(self):\n",
    "        return self._radius\n",
    "    def set_radius(self,radius):\n",
    "        self._radius=radius\n",
    "    def get_area(self):\n",
    "        return 3.1415926*self._radius**2\n",
    "    def get_perimeter(self):\n",
    "        return 3.1415926*2*self._radius\n",
    "\n",
    "c1=circle(5)\n",
    "c1.set_radius(7)\n",
    "print(str(c1.get_radius()))"
   ]
  },
  {
   "cell_type": "code",
   "execution_count": 64,
   "id": "3c5a14c6",
   "metadata": {},
   "outputs": [],
   "source": [
    "def fun1():\n",
    "    print(1)\n",
    "def fun2():\n",
    "    print(2)"
   ]
  },
  {
   "cell_type": "code",
   "execution_count": 3,
   "id": "7f57c749",
   "metadata": {},
   "outputs": [
    {
     "ename": "TypeError",
     "evalue": "can only concatenate list (not \"int\") to list",
     "output_type": "error",
     "traceback": [
      "\u001b[1;31m---------------------------------------------------------------------------\u001b[0m",
      "\u001b[1;31mTypeError\u001b[0m                                 Traceback (most recent call last)",
      "\u001b[1;32m<ipython-input-3-3f837c482eff>\u001b[0m in \u001b[0;36m<module>\u001b[1;34m\u001b[0m\n\u001b[0;32m      1\u001b[0m \u001b[0mtinylist\u001b[0m \u001b[1;33m=\u001b[0m \u001b[1;33m[\u001b[0m\u001b[1;36m123\u001b[0m\u001b[1;33m,\u001b[0m \u001b[1;34m'john'\u001b[0m\u001b[1;33m]\u001b[0m\u001b[1;33m\u001b[0m\u001b[1;33m\u001b[0m\u001b[0m\n\u001b[1;32m----> 2\u001b[1;33m \u001b[0mprint\u001b[0m\u001b[1;33m(\u001b[0m\u001b[0mtinylist\u001b[0m \u001b[1;33m+\u001b[0m \u001b[1;36m3\u001b[0m\u001b[1;33m)\u001b[0m\u001b[1;33m\u001b[0m\u001b[1;33m\u001b[0m\u001b[0m\n\u001b[0m",
      "\u001b[1;31mTypeError\u001b[0m: can only concatenate list (not \"int\") to list"
     ]
    }
   ],
   "source": [
    "tinylist = [123, 'john']\n",
    "print(tinylist + 3)"
   ]
  },
  {
   "cell_type": "code",
   "execution_count": 1,
   "id": "21c923dc",
   "metadata": {},
   "outputs": [
    {
     "name": "stdout",
     "output_type": "stream",
     "text": [
      "[123, 'john', 123, 'john']\n"
     ]
    }
   ],
   "source": [
    "tinylist = [123, 'john']\n",
    "print(tinylist * 2)"
   ]
  },
  {
   "cell_type": "code",
   "execution_count": null,
   "id": "14a8736b",
   "metadata": {},
   "outputs": [],
   "source": []
  }
 ],
 "metadata": {
  "kernelspec": {
   "display_name": "Python 3",
   "language": "python",
   "name": "python3"
  },
  "language_info": {
   "codemirror_mode": {
    "name": "ipython",
    "version": 3
   },
   "file_extension": ".py",
   "mimetype": "text/x-python",
   "name": "python",
   "nbconvert_exporter": "python",
   "pygments_lexer": "ipython3",
   "version": "3.8.8"
  }
 },
 "nbformat": 4,
 "nbformat_minor": 5
}
