{
 "cells": [
  {
   "cell_type": "code",
   "execution_count": null,
   "id": "7de82fc7",
   "metadata": {},
   "outputs": [],
   "source": [
    "#小明有塊梯形的土地，設計程式讓他輸入上下底及高，即得出梯形面積\n",
    "print('輸入上下底及高以求面積')\n",
    "height=a=float(input('請輸入高：'))\n",
    "upper_line=b=float(input('請輸入上底：'))\n",
    "lower_line=c=float(input('請輸入下底：'))\n",
    "z=(b+c)*a/2\n",
    "print('此梯形面積為{:f}'.format(z))\n",
    "print(\"\\n\")"
   ]
  },
  {
   "cell_type": "code",
   "execution_count": null,
   "id": "2baaf5ea",
   "metadata": {},
   "outputs": [],
   "source": [
    "#小明在銀行有一筆存款，設計程式讓小明輸入存款本金後，以複合指定運算子計算6年後的本金。\n",
    "print('輸入本金以求年後之本利和')\n",
    "money=a=float(input('請輸入本金：'))\n",
    "year=b=float(input('請輸入年數：'))\n",
    "interest=c=float(input('請輸入利息：'))\n",
    "c**=b\n",
    "z=a*c\n",
    "print('本利和為{:f}'.format(z))\n",
    "print(\"\\n\")"
   ]
  },
  {
   "cell_type": "code",
   "execution_count": null,
   "id": "9a7622f9",
   "metadata": {},
   "outputs": [],
   "source": [
    "#小林剛考完第一次段考，設計程式讓小林輸入國文、英文及數學成績後為其計算成績總分。\n",
    "print('請輸入各科成績')\n",
    "Chinese_score=a=float(input('請輸入本金：'))\n",
    "English_score=b=float(input('請輸入本金：'))\n",
    "Mathematic_score=c=float(input('請輸入本金：'))\n",
    "z=a+b+c\n",
    "print('總成績為{:f}'.format(z))\n",
    "print('\\n')"
   ]
  },
  {
   "cell_type": "code",
   "execution_count": null,
   "id": "db80d5d7",
   "metadata": {},
   "outputs": [],
   "source": [
    "#小林剛考完第一次段考，設計程式讓小林輸入國文、英文及數學成績後為其計算成績總分。\n",
    "print('請輸入各科成績')\n",
    "Chinese_score=a=float(input('請輸入本金：'))\n",
    "English_score=b=float(input('請輸入本金：'))\n",
    "Mathematic_score=c=float(input('請輸入本金：'))\n",
    "z=a+b+c\n",
    "print('總成績為{:f}'.format(z))\n",
    "print('\\n')"
   ]
  }
 ],
 "metadata": {
  "kernelspec": {
   "display_name": "Python 3",
   "language": "python",
   "name": "python3"
  },
  "language_info": {
   "codemirror_mode": {
    "name": "ipython",
    "version": 3
   },
   "file_extension": ".py",
   "mimetype": "text/x-python",
   "name": "python",
   "nbconvert_exporter": "python",
   "pygments_lexer": "ipython3",
   "version": "3.8.8"
  }
 },
 "nbformat": 4,
 "nbformat_minor": 5
}
