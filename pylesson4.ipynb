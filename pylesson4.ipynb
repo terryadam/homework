{
 "cells": [
  {
   "cell_type": "code",
   "execution_count": 7,
   "id": "8efe3372",
   "metadata": {},
   "outputs": [
    {
     "name": "stdout",
     "output_type": "stream",
     "text": [
      "4\n"
     ]
    }
   ],
   "source": [
    "list1=[[1,2],[3,4],[5,6]]\n",
    "print(list1[1][1])"
   ]
  },
  {
   "cell_type": "code",
   "execution_count": 16,
   "id": "4c2c8adb",
   "metadata": {},
   "outputs": [
    {
     "name": "stdout",
     "output_type": "stream",
     "text": [
      "pineapple\n",
      "0\n"
     ]
    }
   ],
   "source": [
    "a=['apple','pineapple']\n",
    "print(a[1])\n",
    "a[1]=0\n",
    "print(a[1])"
   ]
  },
  {
   "cell_type": "code",
   "execution_count": 22,
   "id": "2e87eb14",
   "metadata": {},
   "outputs": [
    {
     "name": "stdout",
     "output_type": "stream",
     "text": [
      "apple\\pineapple\\banana\\"
     ]
    }
   ],
   "source": [
    "a=['apple','pineapple','banana']\n",
    "for b in a:\n",
    "    print(b,end='\\\\')"
   ]
  },
  {
   "cell_type": "code",
   "execution_count": 23,
   "id": "ff26e143",
   "metadata": {},
   "outputs": [
    {
     "name": "stdout",
     "output_type": "stream",
     "text": [
      "3\n"
     ]
    }
   ],
   "source": [
    "a=['apple','pineapple','banana']\n",
    "print(len(a))"
   ]
  },
  {
   "cell_type": "code",
   "execution_count": 27,
   "id": "545d0a7a",
   "metadata": {},
   "outputs": [
    {
     "name": "stdout",
     "output_type": "stream",
     "text": [
      "apple'pineapple'banana'"
     ]
    }
   ],
   "source": [
    "a=['apple','pineapple','banana']\n",
    "for i in range(len(a)):\n",
    "    print(a[i],end='\\'')"
   ]
  },
  {
   "cell_type": "code",
   "execution_count": 32,
   "id": "08bb3216",
   "metadata": {},
   "outputs": [
    {
     "name": "stdout",
     "output_type": "stream",
     "text": [
      "chinese成績:85\n",
      "english成績:79\n",
      "math成績:93\n"
     ]
    }
   ],
   "source": [
    "s=['chinese','english','math']\n",
    "ss=[85,79,93]\n",
    "for i in range(3):\n",
    "    print('{}成績:{}'.format(s[i],ss[i]))"
   ]
  },
  {
   "cell_type": "code",
   "execution_count": 35,
   "id": "695183b0",
   "metadata": {},
   "outputs": [
    {
     "name": "stdout",
     "output_type": "stream",
     "text": [
      "0\n"
     ]
    }
   ],
   "source": [
    "a = ['apple','pineapple','banana']\n",
    "n = a.index('apple')\n",
    "print(n)"
   ]
  },
  {
   "cell_type": "code",
   "execution_count": 39,
   "id": "f9ebc9d1",
   "metadata": {},
   "outputs": [
    {
     "data": {
      "text/plain": [
       "False"
      ]
     },
     "execution_count": 39,
     "metadata": {},
     "output_type": "execute_result"
    }
   ],
   "source": [
    "a = ['apple','pineapple','banana']\n",
    "'apple' not in a "
   ]
  },
  {
   "cell_type": "code",
   "execution_count": 45,
   "id": "6c9ebd12",
   "metadata": {},
   "outputs": [
    {
     "name": "stdout",
     "output_type": "stream",
     "text": [
      "3\n",
      "0\n"
     ]
    }
   ],
   "source": [
    "a = ['apple','apple','apple','pineapple','banana']\n",
    "n = a.count('apple')\n",
    "m = a.count('guava')\n",
    "print(n,m,sep='\\n')"
   ]
  },
  {
   "cell_type": "code",
   "execution_count": 47,
   "id": "7d39fdd1",
   "metadata": {},
   "outputs": [
    {
     "name": "stdout",
     "output_type": "stream",
     "text": [
      "['apple', 'pineapple', 'banana', 'sweet']\n"
     ]
    }
   ],
   "source": [
    "a = ['apple','pineapple','banana']\n",
    "a.append('sweet')\n",
    "print(a)"
   ]
  },
  {
   "cell_type": "code",
   "execution_count": 56,
   "id": "918d9978",
   "metadata": {},
   "outputs": [
    {
     "name": "stdout",
     "output_type": "stream",
     "text": [
      "['apple', 'sweet', 'pineapple', 'banana']\n"
     ]
    }
   ],
   "source": [
    "a = ['apple','pineapple','banana']\n",
    "a.insert(-2,'sweet')\n",
    "print(a)"
   ]
  },
  {
   "cell_type": "code",
   "execution_count": 57,
   "id": "bc35b84e",
   "metadata": {},
   "outputs": [
    {
     "name": "stdout",
     "output_type": "stream",
     "text": [
      "['pineapple', 'banana']\n"
     ]
    }
   ],
   "source": [
    "a = ['apple','pineapple','banana']\n",
    "a.remove('apple')\n",
    "print(a)"
   ]
  },
  {
   "cell_type": "code",
   "execution_count": 59,
   "id": "2ee02643",
   "metadata": {},
   "outputs": [
    {
     "name": "stdout",
     "output_type": "stream",
     "text": [
      "['apple', 'pineapple']\n"
     ]
    }
   ],
   "source": [
    "a = ['apple','pineapple','banana']\n",
    "a.pop()\n",
    "print(a)"
   ]
  },
  {
   "cell_type": "code",
   "execution_count": 60,
   "id": "9e189d57",
   "metadata": {},
   "outputs": [
    {
     "name": "stdout",
     "output_type": "stream",
     "text": [
      "['apple', 'banana']\n"
     ]
    }
   ],
   "source": [
    "a = ['apple','pineapple','banana']\n",
    "a.pop(1)\n",
    "print(a)"
   ]
  },
  {
   "cell_type": "code",
   "execution_count": 62,
   "id": "62c8a7e0",
   "metadata": {},
   "outputs": [
    {
     "name": "stdout",
     "output_type": "stream",
     "text": [
      "['apple', 'banana', 'i', 'you', 'he']\n"
     ]
    }
   ],
   "source": [
    "a = ['apple','pineapple','banana','i','you','he']\n",
    "del a[1]\n",
    "print(a)"
   ]
  },
  {
   "cell_type": "code",
   "execution_count": 64,
   "id": "ccdf608b",
   "metadata": {},
   "outputs": [
    {
     "name": "stdout",
     "output_type": "stream",
     "text": [
      "['apple', 'banana', 'i', 'he']\n"
     ]
    }
   ],
   "source": [
    "a = ['apple','pineapple','banana','i','you','he']\n",
    "del a[1:5:3]\n",
    "print(a)"
   ]
  },
  {
   "cell_type": "code",
   "execution_count": null,
   "id": "8ed5df31",
   "metadata": {},
   "outputs": [],
   "source": [
    "a = ['banana','apple','orange','pineapple','watermelon']\n",
    "print('超市的水果有{}'.format(a))\n",
    "x = str(input('請輸入您不喜歡的水果:'))\n",
    "if x in a:\n",
    "    a.remove(x)\n",
    "else:\n",
    "    a==a\n",
    "    print('{}不在其中!'.format(x))\n",
    "print('您還可以買{}'.format(a))\n",
    "#自己的版本\n",
    "#缺陷:一次只能輸入一種水果"
   ]
  },
  {
   "cell_type": "code",
   "execution_count": null,
   "id": "f777ea40",
   "metadata": {},
   "outputs": [],
   "source": [
    "fruit_list = [\"香蕉\", \"蘋果\", \"橘子\", \"鳳梨\", \"西瓜\"]\n",
    "print(\"超市的水果有：{}\".format(fruit_list))\n",
    "while True:\n",
    "    unlike = input(\"請輸入不喜歡的水果（要結束請按下 Enter 鍵 ）：\")\n",
    "    if unlike == \"\":\n",
    "        break\n",
    "    if unlike not in fruit_list:\n",
    "        print(\"{} 不在超市架上\".format(unlike))\n",
    "        continue\n",
    "    fruit_list.remove(unlike)\n",
    "    print(\"超市剩下的水果有：{}\".format(fruit_list))"
   ]
  },
  {
   "cell_type": "code",
   "execution_count": null,
   "id": "454e3888",
   "metadata": {},
   "outputs": [],
   "source": [
    "a = ['banana','apple','orange','pineapple','watermelon']\n",
    "print('超市的水果有{}'.format(a))\n",
    "while True:\n",
    "    x = input('請輸入您不喜歡的水果(要結束請按下enter鍵):')\n",
    "    if x == '':\n",
    "        break\n",
    "    if x not in a:\n",
    "        print('{}不在其中!'.format(x))\n",
    "        continue\n",
    "    a.remove(x)\n",
    "    print('您還可以買{}'.format(a))"
   ]
  },
  {
   "cell_type": "code",
   "execution_count": null,
   "id": "b1d6db7e",
   "metadata": {},
   "outputs": [],
   "source": [
    "a = [2,1,3,4,5,6]\n",
    "a.sort()\n",
    "a.reverse()\n",
    "print(a)"
   ]
  },
  {
   "cell_type": "code",
   "execution_count": null,
   "id": "9386251d",
   "metadata": {},
   "outputs": [],
   "source": [
    "a=(1,2,3,4)#tuple"
   ]
  },
  {
   "cell_type": "code",
   "execution_count": null,
   "id": "a5690db0",
   "metadata": {},
   "outputs": [],
   "source": [
    "#dictionary#no sequence\n",
    "a={ : , : , : , : , : }\n",
    "a=dict([[ , ],[ , ],[ , ]])\n",
    "a=dict( ='', ='', ='' )#此之鍵不能用數字\n",
    "#a.get(鍵[,預設值])\n",
    "#print(a[ ])"
   ]
  },
  {
   "cell_type": "code",
   "execution_count": null,
   "id": "8d6c2d66",
   "metadata": {},
   "outputs": [],
   "source": [
    "scores=[]\n",
    "while True:\n",
    "    x=float(input('請輸入學生成績:'))\n",
    "    if x == -1:\n",
    "        break\n",
    "    scores.append(x)\n",
    "    print(scores)\n",
    "scores.reverse()\n",
    "print(scores)\n",
    "print(\"本班共有 {} 人\".format(len(scores)))\n",
    "print(\"本班的總成績：{}\".format(sum(scores)))\n",
    "print(\"本班的平均成績:{}\".format(sum(scores) / len(scores)))"
   ]
  },
  {
   "cell_type": "code",
   "execution_count": null,
   "id": "788afe46",
   "metadata": {},
   "outputs": [],
   "source": [
    "a = dict(A='很好',B='很不錯',AB='很棒',O='超棒')\n",
    "x = input('請輸入血型(以大寫輸入):')\n",
    "if x in a:\n",
    "    print(a[x])\n",
    "else:\n",
    "    print('沒有該血型的訊息喔!')"
   ]
  },
  {
   "cell_type": "code",
   "execution_count": null,
   "id": "428f4a0d",
   "metadata": {},
   "outputs": [],
   "source": [
    "a = dict(A='很好',B='很不錯',AB='很棒',O='超棒')\n",
    "x = input('請輸入血型(以大寫輸入):')\n",
    "print(a.get(x,['沒有該血型的資料喔!']))\n"
   ]
  }
 ],
 "metadata": {
  "kernelspec": {
   "display_name": "Python 3",
   "language": "python",
   "name": "python3"
  },
  "language_info": {
   "codemirror_mode": {
    "name": "ipython",
    "version": 3
   },
   "file_extension": ".py",
   "mimetype": "text/x-python",
   "name": "python",
   "nbconvert_exporter": "python",
   "pygments_lexer": "ipython3",
   "version": "3.8.8"
  }
 },
 "nbformat": 4,
 "nbformat_minor": 5
}