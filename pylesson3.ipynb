{
 "cells": [
  {
   "cell_type": "code",
   "execution_count": null,
   "id": "2238feb2",
   "metadata": {},
   "outputs": [],
   "source": [
    "x=str(input('請輸入密碼：'))\r\n",
    "if x=='1234' :\r\n",
    "    print('歡迎光臨')\r\n",
    "else :\r\n",
    "    print('密碼錯誤')"
   ]
  },
  {
   "cell_type": "code",
   "execution_count": null,
   "id": "c9663b51",
   "metadata": {},
   "outputs": [],
   "source": [
    "x=float(input('請輸入成績：'))\n",
    "if x >= 90 :\n",
    "    print('優等')\n",
    "elif x>= 80:\n",
    "    print('甲等')\n",
    "elif x >= 70:\n",
    "    print('乙等')\n",
    "elif x >= 60:\n",
    "    print('丙等')\n",
    "else:\n",
    "    print('丁等')"
   ]
  },
  {
   "cell_type": "code",
   "execution_count": null,
   "id": "c60fbea0",
   "metadata": {},
   "outputs": [],
   "source": [
    "x=float(input('請輸入金額：'))\n",
    "if x >= 100000 :\n",
    "    x*=0.8\n",
    "elif x>= 50000:\n",
    "    x*=0.85\n",
    "elif x >= 30000:\n",
    "    x*=0.9\n",
    "elif x >= 10000:\n",
    "    x*=0.95\n",
    "else:\n",
    "    x==x\n",
    "print('應付金額：{:f}'.format(x))"
   ]
  },
  {
   "cell_type": "code",
   "execution_count": null,
   "id": "83fb953a",
   "metadata": {},
   "outputs": [],
   "source": [
    "x=int(input('請輸入正整數：'))\n",
    "for n in range(1,x+1):\n",
    "    print(n, end=',')\n",
    "#如果沒有\"end特別指令，會用分行來解決\n",
    "#range 後面的數字不包括"
   ]
  },
  {
   "cell_type": "code",
   "execution_count": null,
   "id": "08aa4755",
   "metadata": {},
   "outputs": [],
   "source": [
    "x=int(input('請輸入正整數：'))\n",
    "a=n=0\n",
    "while n < x :\n",
    "    n+=1\n",
    "    a+=n #總和的寫法都是這樣寫\n",
    "print(a,end=\",\")\n",
    "#print指令要放在頂，如果tab，會等於是放在while的指令下，會出現很多的總和1,3,6,10,15"
   ]
  },
  {
   "cell_type": "code",
   "execution_count": null,
   "id": "b6775afa",
   "metadata": {},
   "outputs": [],
   "source": [
    "x=int(input('請輸入正整數：'))\n",
    "a=0\n",
    "for n in range(x+1):\n",
    "    a+=n #總和的寫法都是這樣寫\n",
    "print(a)"
   ]
  },
  {
   "cell_type": "code",
   "execution_count": null,
   "id": "0045242a",
   "metadata": {},
   "outputs": [],
   "source": [
    "for i in range (1,10):\n",
    "    for j in range (1,10):\n",
    "        n = i*j\n",
    "        print('{:d} x {:d} = {:d}'.format(i,j,n),end='  ')\n",
    "    print('\\n')"
   ]
  },
  {
   "cell_type": "code",
   "execution_count": null,
   "id": "7819abf1",
   "metadata": {},
   "outputs": [],
   "source": [
    "for i in range (1,10):\n",
    "    for j in range (1,10):\n",
    "        n = i*j\n",
    "        print('{:d} x {:d} = {:d}'.format(i,j,n),end='  ')\n",
    "    print('\\n')"
   ]
  }
 ],
 "metadata": {
  "kernelspec": {
   "name": "python3",
   "display_name": "Python 3.8.8 64-bit ('base': conda)"
  },
  "language_info": {
   "codemirror_mode": {
    "name": "ipython",
    "version": 3
   },
   "file_extension": ".py",
   "mimetype": "text/x-python",
   "name": "python",
   "nbconvert_exporter": "python",
   "pygments_lexer": "ipython3",
   "version": "3.8.8"
  },
  "interpreter": {
   "hash": "28ec78c7585052904ea330740e72fb973aaa72c415024ec86ce3c0154fc2aa55"
  }
 },
 "nbformat": 4,
 "nbformat_minor": 5
}